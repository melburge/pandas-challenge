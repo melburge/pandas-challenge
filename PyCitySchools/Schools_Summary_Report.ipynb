{
 "cells": [
  {
   "cell_type": "code",
   "execution_count": 3,
   "id": "e2f0235c",
   "metadata": {},
   "outputs": [
    {
     "data": {
      "text/html": [
       "<div>\n",
       "<style scoped>\n",
       "    .dataframe tbody tr th:only-of-type {\n",
       "        vertical-align: middle;\n",
       "    }\n",
       "\n",
       "    .dataframe tbody tr th {\n",
       "        vertical-align: top;\n",
       "    }\n",
       "\n",
       "    .dataframe thead th {\n",
       "        text-align: right;\n",
       "    }\n",
       "</style>\n",
       "<table border=\"1\" class=\"dataframe\">\n",
       "  <thead>\n",
       "    <tr style=\"text-align: right;\">\n",
       "      <th></th>\n",
       "      <th>Student ID</th>\n",
       "      <th>student_name</th>\n",
       "      <th>gender</th>\n",
       "      <th>year</th>\n",
       "      <th>school_name</th>\n",
       "      <th>reading_score</th>\n",
       "      <th>maths_score</th>\n",
       "      <th>School ID</th>\n",
       "      <th>type</th>\n",
       "      <th>size</th>\n",
       "      <th>budget</th>\n",
       "    </tr>\n",
       "  </thead>\n",
       "  <tbody>\n",
       "    <tr>\n",
       "      <th>0</th>\n",
       "      <td>0</td>\n",
       "      <td>Paul Bradley</td>\n",
       "      <td>M</td>\n",
       "      <td>9</td>\n",
       "      <td>Huang High School</td>\n",
       "      <td>96</td>\n",
       "      <td>94</td>\n",
       "      <td>0</td>\n",
       "      <td>Government</td>\n",
       "      <td>2917</td>\n",
       "      <td>1910635</td>\n",
       "    </tr>\n",
       "    <tr>\n",
       "      <th>1</th>\n",
       "      <td>1</td>\n",
       "      <td>Victor Smith</td>\n",
       "      <td>M</td>\n",
       "      <td>12</td>\n",
       "      <td>Huang High School</td>\n",
       "      <td>90</td>\n",
       "      <td>43</td>\n",
       "      <td>0</td>\n",
       "      <td>Government</td>\n",
       "      <td>2917</td>\n",
       "      <td>1910635</td>\n",
       "    </tr>\n",
       "    <tr>\n",
       "      <th>2</th>\n",
       "      <td>2</td>\n",
       "      <td>Kevin Rodriguez</td>\n",
       "      <td>M</td>\n",
       "      <td>12</td>\n",
       "      <td>Huang High School</td>\n",
       "      <td>41</td>\n",
       "      <td>76</td>\n",
       "      <td>0</td>\n",
       "      <td>Government</td>\n",
       "      <td>2917</td>\n",
       "      <td>1910635</td>\n",
       "    </tr>\n",
       "    <tr>\n",
       "      <th>3</th>\n",
       "      <td>3</td>\n",
       "      <td>Richard Scott</td>\n",
       "      <td>M</td>\n",
       "      <td>12</td>\n",
       "      <td>Huang High School</td>\n",
       "      <td>89</td>\n",
       "      <td>86</td>\n",
       "      <td>0</td>\n",
       "      <td>Government</td>\n",
       "      <td>2917</td>\n",
       "      <td>1910635</td>\n",
       "    </tr>\n",
       "    <tr>\n",
       "      <th>4</th>\n",
       "      <td>4</td>\n",
       "      <td>Bonnie Ray</td>\n",
       "      <td>F</td>\n",
       "      <td>9</td>\n",
       "      <td>Huang High School</td>\n",
       "      <td>87</td>\n",
       "      <td>69</td>\n",
       "      <td>0</td>\n",
       "      <td>Government</td>\n",
       "      <td>2917</td>\n",
       "      <td>1910635</td>\n",
       "    </tr>\n",
       "  </tbody>\n",
       "</table>\n",
       "</div>"
      ],
      "text/plain": [
       "   Student ID     student_name gender  year        school_name  reading_score  \\\n",
       "0           0     Paul Bradley      M     9  Huang High School             96   \n",
       "1           1     Victor Smith      M    12  Huang High School             90   \n",
       "2           2  Kevin Rodriguez      M    12  Huang High School             41   \n",
       "3           3    Richard Scott      M    12  Huang High School             89   \n",
       "4           4       Bonnie Ray      F     9  Huang High School             87   \n",
       "\n",
       "   maths_score  School ID        type  size   budget  \n",
       "0           94          0  Government  2917  1910635  \n",
       "1           43          0  Government  2917  1910635  \n",
       "2           76          0  Government  2917  1910635  \n",
       "3           86          0  Government  2917  1910635  \n",
       "4           69          0  Government  2917  1910635  "
      ]
     },
     "execution_count": 3,
     "metadata": {},
     "output_type": "execute_result"
    }
   ],
   "source": [
    "# Dependencies and Setup\n",
    "import pandas as pd\n",
    "from pathlib import Path\n",
    "\n",
    "# File to Load (Remember to Change These)\n",
    "school_data_to_load = Path(\"Resources/schools_complete.csv\")\n",
    "student_data_to_load = Path(\"Resources/students_complete.csv\")\n",
    "\n",
    "# Read School and Student Data File and store into Pandas DataFrames\n",
    "school_data = pd.read_csv(school_data_to_load)\n",
    "student_data = pd.read_csv(student_data_to_load)\n",
    "\n",
    "# Combine the data into a single dataset.  \n",
    "school_data_complete_df = pd.merge(student_data, school_data, how=\"left\", on=[\"school_name\", \"school_name\"])\n",
    "school_data_complete_df.head()"
   ]
  },
  {
   "cell_type": "code",
   "execution_count": 29,
   "id": "011c47cf",
   "metadata": {},
   "outputs": [
    {
     "ename": "SyntaxError",
     "evalue": "unterminated string literal (detected at line 14) (2681245971.py, line 14)",
     "output_type": "error",
     "traceback": [
      "\u001b[1;36m  Cell \u001b[1;32mIn[29], line 14\u001b[1;36m\u001b[0m\n\u001b[1;33m    average_maths = (school_data_complete_df [sum(maths_score) / ['student_count'] % '])\u001b[0m\n\u001b[1;37m                                                                                     ^\u001b[0m\n\u001b[1;31mSyntaxError\u001b[0m\u001b[1;31m:\u001b[0m unterminated string literal (detected at line 14)\n"
     ]
    }
   ],
   "source": [
    "# Count of unique schools (15)\n",
    "schools_count = len(school_data_complete_df['school_name'].unique())\n",
    "\n",
    "# Count of unique students (39,170)\n",
    "sudents_count = len(school_data_complete_df['student_name'].unique())\n",
    "\n",
    "# Total Budget ($24,649,428.00)\n",
    "budget_total = sum(school_data_complete_df['budget'])\n",
    "\n",
    "# Per student budget\n",
    "student_budget = (school_data_complete_df['budget / ['student_count'] $'])\n",
    "\n",
    "# Averaage Maths Score (70.338192)\n",
    "average_maths = (school_data_complete_df [sum(maths_score) / ['student_count'] % '])\n",
    "                                          \n",
    "# Average Reading Score (69.980138)\n",
    "average_maths = (school_data_complete_df [sum(reading_score) / ['student_count'] % '])\n",
    "\n",
    "# Passing grade 50 or higher\n",
    "# % passing maths (% Students who passed maths) (86.078632)\n",
    "passing_maths = \n",
    "                                          \n",
    "# % passing reading (% Students passing reading) (84.426857)\n",
    "passing_reading = \n",
    "                                          \n",
    "# % overall passing (% Students who passed maths and reading) (72.808272)\n",
    "total_passing = ('[passing_maths] + [passing_reading] %')\n",
    "                                          \n",
    "df.head()\n"
   ]
  },
  {
   "cell_type": "code",
   "execution_count": 37,
   "id": "a48dda72",
   "metadata": {},
   "outputs": [],
   "source": [
    "# Local Government Area Summary"
   ]
  },
  {
   "cell_type": "code",
   "execution_count": 35,
   "id": "d62f0e1f",
   "metadata": {},
   "outputs": [
    {
     "data": {
      "text/html": [
       "<div>\n",
       "<style scoped>\n",
       "    .dataframe tbody tr th:only-of-type {\n",
       "        vertical-align: middle;\n",
       "    }\n",
       "\n",
       "    .dataframe tbody tr th {\n",
       "        vertical-align: top;\n",
       "    }\n",
       "\n",
       "    .dataframe thead th {\n",
       "        text-align: right;\n",
       "    }\n",
       "</style>\n",
       "<table border=\"1\" class=\"dataframe\">\n",
       "  <thead>\n",
       "    <tr style=\"text-align: right;\">\n",
       "      <th></th>\n",
       "      <th>Total Schools</th>\n",
       "      <th>Total Students</th>\n",
       "      <th>Total Budget</th>\n",
       "      <th>Average Math Score</th>\n",
       "      <th>Average Reading Score</th>\n",
       "      <th>% Passing Maths</th>\n",
       "      <th>% Passing Reading</th>\n",
       "      <th>% Overall Passing</th>\n",
       "    </tr>\n",
       "  </thead>\n",
       "  <tbody>\n",
       "    <tr>\n",
       "      <th>0</th>\n",
       "      <td>15</td>\n",
       "      <td>39,170</td>\n",
       "      <td>$24,649,428.00</td>\n",
       "      <td>70.338192</td>\n",
       "      <td>69.980138</td>\n",
       "      <td>86.078632</td>\n",
       "      <td>84.426857</td>\n",
       "      <td>72.808272</td>\n",
       "    </tr>\n",
       "  </tbody>\n",
       "</table>\n",
       "</div>"
      ],
      "text/plain": [
       "   Total Schools Total Students    Total Budget  Average Math Score  \\\n",
       "0             15         39,170  $24,649,428.00           70.338192   \n",
       "\n",
       "   Average Reading Score  % Passing Maths  % Passing Reading  \\\n",
       "0              69.980138        86.078632          84.426857   \n",
       "\n",
       "   % Overall Passing  \n",
       "0          72.808272  "
      ]
     },
     "execution_count": 35,
     "metadata": {},
     "output_type": "execute_result"
    }
   ],
   "source": [
    "local_gov_summary_df = pd.DataFrame([{'Total Schools': 15,\n",
    "                                    'Total Students': '39,170',\n",
    "                                    'Total Budget': '$24,649,428.00',\n",
    "                                    'Average Math Score': 70.338192,\n",
    "                                    'Average Reading Score': 69.980138,\n",
    "                                    '% Passing Maths': 86.078632,\n",
    "                                    '% Passing Reading': 84.426857,\n",
    "                                    '% Overall Passing': 72.808272}])\n",
    "local_gov_summary_df"
   ]
  },
  {
   "cell_type": "code",
   "execution_count": null,
   "id": "19b391e5",
   "metadata": {},
   "outputs": [],
   "source": []
  },
  {
   "cell_type": "code",
   "execution_count": null,
   "id": "dad388ed",
   "metadata": {},
   "outputs": [],
   "source": []
  },
  {
   "cell_type": "code",
   "execution_count": null,
   "id": "c063a5da",
   "metadata": {},
   "outputs": [],
   "source": [
    "#Highest Performing Schools (by % Overall Passing)\n",
    "#sort the schools by % Overall Passing in ascending order an display top 5 rows\n",
    "#Save the results in a DataFrame called \"top_schools\""
   ]
  },
  {
   "cell_type": "code",
   "execution_count": null,
   "id": "7ef657c0",
   "metadata": {},
   "outputs": [],
   "source": [
    "#Lowest-Performing Schools (by % Overall Passing)\n",
    "#Sort the schools by % Overall Passing in ascending order and display the top 5 rows\n",
    "#Save the results in a DataFrame called \"bottom_schools\""
   ]
  },
  {
   "cell_type": "code",
   "execution_count": null,
   "id": "3d94d069",
   "metadata": {},
   "outputs": [],
   "source": [
    "#Maths Scores by Year\n",
    "#Perform the necessary calculations to create a \n",
    "#DataFrame that lists the average maths score for students of each year level (9, 10, 11, 12) at each school"
   ]
  },
  {
   "cell_type": "code",
   "execution_count": null,
   "id": "0a075f9c",
   "metadata": {},
   "outputs": [],
   "source": [
    "#Reading Scores by Year\n",
    "#Create a DataFrame that lists the average reading score for students of each year level (9, 10, 11, 12) at each school"
   ]
  },
  {
   "cell_type": "code",
   "execution_count": null,
   "id": "b21c38d8",
   "metadata": {},
   "outputs": [],
   "source": [
    "#Scores by School Spending\n",
    "\n",
    "#Create a table that breaks down school performance based on average spending ranges (per student).\n",
    "#Use the code provided below to create four bins with reasonable cutoff values to group school spending\n",
    "#spending_bins = [0, 585, 630, 645, 680]\n",
    "#labels = [\"<$585\", \"$585-630\", \"$630-645\", \"$645-680\"]\n",
    "#Use pd.cut to categorise spending based on the bins.\n",
    "#Use the following code to then calculate mean scores per spending range."
   ]
  },
  {
   "cell_type": "code",
   "execution_count": null,
   "id": "63dba426",
   "metadata": {},
   "outputs": [],
   "source": [
    "#Scores by School Size\n",
    "\n",
    "#Use the following code to bin the per_school_summary\n",
    "#size_bins = [0, 1000, 2000, 5000]\n",
    "#labels = [\"Small (<1000)\", \"Medium (1000-2000)\", \"Large (2000-5000)\"]\n",
    "#Use pd.cut on the \"Total Students\" column of the per_school_summary DataFrame.\n",
    "#Create a DataFrame called size_summary that breaks down school performance based on school size (small, medium, or large)"
   ]
  },
  {
   "cell_type": "code",
   "execution_count": null,
   "id": "e9cf032a",
   "metadata": {},
   "outputs": [],
   "source": [
    "#Scores by School Type\n",
    "\n",
    "#Use the per_school_summary DataFrame from the previous step to create a new DataFrame called type_summary.\n",
    "#This new DataFrame should show school performance based on the \"School Type\""
   ]
  },
  {
   "cell_type": "code",
   "execution_count": null,
   "id": "6fd61e56",
   "metadata": {},
   "outputs": [],
   "source": []
  }
 ],
 "metadata": {
  "kernelspec": {
   "display_name": "Python 3 (ipykernel)",
   "language": "python",
   "name": "python3"
  },
  "language_info": {
   "codemirror_mode": {
    "name": "ipython",
    "version": 3
   },
   "file_extension": ".py",
   "mimetype": "text/x-python",
   "name": "python",
   "nbconvert_exporter": "python",
   "pygments_lexer": "ipython3",
   "version": "3.11.5"
  }
 },
 "nbformat": 4,
 "nbformat_minor": 5
}
